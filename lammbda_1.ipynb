{
 "cells": [
  {
   "cell_type": "code",
   "execution_count": 2,
   "id": "a93af512-d7f2-4df3-ad16-42c629879f4d",
   "metadata": {},
   "outputs": [],
   "source": [
    "l=[2,3,4,5,6,7,8]"
   ]
  },
  {
   "cell_type": "code",
   "execution_count": 3,
   "id": "886263cb-7245-4b9d-adc1-af9a5be5dcac",
   "metadata": {},
   "outputs": [],
   "source": [
    "l1=[x*2 for x in l]"
   ]
  },
  {
   "cell_type": "code",
   "execution_count": 4,
   "id": "b63ad47b-8fea-4818-abe7-061a6e274d70",
   "metadata": {},
   "outputs": [
    {
     "data": {
      "text/plain": [
       "[4, 6, 8, 10, 12, 14, 16]"
      ]
     },
     "execution_count": 4,
     "metadata": {},
     "output_type": "execute_result"
    }
   ],
   "source": [
    "l1"
   ]
  },
  {
   "cell_type": "code",
   "execution_count": 5,
   "id": "b97a99ff-7636-4ca6-aa22-dd89870c58e5",
   "metadata": {},
   "outputs": [],
   "source": [
    "l2=[x+1 for x in l if x%2==0]"
   ]
  },
  {
   "cell_type": "code",
   "execution_count": 6,
   "id": "5d1281c2-3df1-44c8-9c58-4bb336803c29",
   "metadata": {},
   "outputs": [
    {
     "data": {
      "text/plain": [
       "[3, 5, 7, 9]"
      ]
     },
     "execution_count": 6,
     "metadata": {},
     "output_type": "execute_result"
    }
   ],
   "source": [
    "l2"
   ]
  },
  {
   "cell_type": "markdown",
   "id": "0a17d2ba-c24d-40d6-ba9a-e410e4595b97",
   "metadata": {},
   "source": [
    "LAMBDA EXPRESSION"
   ]
  },
  {
   "cell_type": "code",
   "execution_count": 7,
   "id": "c4c6a3dd-6f61-4045-9401-706f8c3ce971",
   "metadata": {},
   "outputs": [],
   "source": [
    "# lambda args: expession\n",
    "#add 2 num\n",
    "add(x,y):\n",
    " x+y\n",
    "\n",
    "\n",
    "a=lambda x,y: x*y"
   ]
  },
  {
   "cell_type": "code",
   "execution_count": 8,
   "id": "fe03c06e-a73e-4c2c-9300-f0d2cc8b9050",
   "metadata": {},
   "outputs": [
    {
     "data": {
      "text/plain": [
       "3267"
      ]
     },
     "execution_count": 8,
     "metadata": {},
     "output_type": "execute_result"
    }
   ],
   "source": [
    "a(99,33)"
   ]
  },
  {
   "cell_type": "code",
   "execution_count": 9,
   "id": "d8bedb59-261d-487d-b5ff-9ea35f2c08ce",
   "metadata": {},
   "outputs": [],
   "source": [
    "#square\n",
    "square=lambda x: x**2"
   ]
  },
  {
   "cell_type": "code",
   "execution_count": 10,
   "id": "03ceff46-042b-41a6-827a-7e8757194ac1",
   "metadata": {},
   "outputs": [
    {
     "data": {
      "text/plain": [
       "49"
      ]
     },
     "execution_count": 10,
     "metadata": {},
     "output_type": "execute_result"
    }
   ],
   "source": [
    "square(7)"
   ]
  },
  {
   "cell_type": "code",
   "execution_count": 20,
   "id": "baed41a5-8c40-4bc1-88ee-7a51f305b287",
   "metadata": {},
   "outputs": [],
   "source": [
    "\n",
    "# filter\n",
    "filter(exp,l)\n",
    "evn=list(filter(lambda x:x%2==0 , l))"
   ]
  },
  {
   "cell_type": "code",
   "execution_count": 17,
   "id": "cd6025d9-d138-41c0-9bcb-8d1cf29fd481",
   "metadata": {},
   "outputs": [
    {
     "data": {
      "text/plain": [
       "[2, 4, 6, 8]"
      ]
     },
     "execution_count": 17,
     "metadata": {},
     "output_type": "execute_result"
    }
   ],
   "source": [
    "evn\n"
   ]
  },
  {
   "cell_type": "code",
   "execution_count": 18,
   "id": "08896bd4-b28b-4ef8-b43e-0002b4bfd3df",
   "metadata": {},
   "outputs": [],
   "source": [
    "doubled = list(map(lambda x: x * 2, l))"
   ]
  },
  {
   "cell_type": "code",
   "execution_count": 19,
   "id": "19586241-523d-4c28-8114-6c4fa457b12b",
   "metadata": {},
   "outputs": [
    {
     "data": {
      "text/plain": [
       "[4, 6, 8, 10, 12, 14, 16]"
      ]
     },
     "execution_count": 19,
     "metadata": {},
     "output_type": "execute_result"
    }
   ],
   "source": [
    "doubled"
   ]
  },
  {
   "cell_type": "code",
   "execution_count": null,
   "id": "28e4bf6b-78b7-4f07-8bcb-f23944b05c58",
   "metadata": {},
   "outputs": [],
   "source": []
  }
 ],
 "metadata": {
  "kernelspec": {
   "display_name": "Python 3 (ipykernel)",
   "language": "python",
   "name": "python3"
  },
  "language_info": {
   "codemirror_mode": {
    "name": "ipython",
    "version": 3
   },
   "file_extension": ".py",
   "mimetype": "text/x-python",
   "name": "python",
   "nbconvert_exporter": "python",
   "pygments_lexer": "ipython3",
   "version": "3.13.1"
  }
 },
 "nbformat": 4,
 "nbformat_minor": 5
}
