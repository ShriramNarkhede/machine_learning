{
 "cells": [
  {
   "cell_type": "markdown",
   "id": "9d7ef363-07b3-4ce8-a171-839f1c38d8e1",
   "metadata": {},
   "source": [
    "pandas day1\n"
   ]
  },
  {
   "cell_type": "code",
   "execution_count": 1,
   "id": "cd0e4063-f750-4f12-8fd3-66c0cf88584d",
   "metadata": {},
   "outputs": [],
   "source": [
    "import pandas as pd "
   ]
  },
  {
   "cell_type": "code",
   "execution_count": 15,
   "id": "46c3dce1-7996-4e96-9a9e-dbc9584c8c9b",
   "metadata": {},
   "outputs": [],
   "source": [
    "data={\n",
    "    \"name\":[\"Shree\",\"Gayatri\",\"Yash\"],\n",
    "    \"age\":[20,19,25],\n",
    "    \"loc\":[\"jalgaon\",\"Sambhaji_nagar\",\"nashik\"]\n",
    "}"
   ]
  },
  {
   "cell_type": "code",
   "execution_count": 16,
   "id": "892bffc0-ce3f-49a2-8b18-4b26d177f1d1",
   "metadata": {},
   "outputs": [],
   "source": [
    "df=pd.DataFrame(data)"
   ]
  },
  {
   "cell_type": "code",
   "execution_count": 17,
   "id": "9e947bc8-4099-4338-89b0-0869bab69c63",
   "metadata": {},
   "outputs": [],
   "source": [
    "df.set_index('age', inplace=True)\n"
   ]
  },
  {
   "cell_type": "code",
   "execution_count": 18,
   "id": "f8f45ceb-425d-4cac-acdc-f4e62db29577",
   "metadata": {},
   "outputs": [
    {
     "data": {
      "text/html": [
       "<div>\n",
       "<style scoped>\n",
       "    .dataframe tbody tr th:only-of-type {\n",
       "        vertical-align: middle;\n",
       "    }\n",
       "\n",
       "    .dataframe tbody tr th {\n",
       "        vertical-align: top;\n",
       "    }\n",
       "\n",
       "    .dataframe thead th {\n",
       "        text-align: right;\n",
       "    }\n",
       "</style>\n",
       "<table border=\"1\" class=\"dataframe\">\n",
       "  <thead>\n",
       "    <tr style=\"text-align: right;\">\n",
       "      <th></th>\n",
       "      <th>name</th>\n",
       "      <th>loc</th>\n",
       "    </tr>\n",
       "    <tr>\n",
       "      <th>age</th>\n",
       "      <th></th>\n",
       "      <th></th>\n",
       "    </tr>\n",
       "  </thead>\n",
       "  <tbody>\n",
       "    <tr>\n",
       "      <th>20</th>\n",
       "      <td>Shree</td>\n",
       "      <td>jalgaon</td>\n",
       "    </tr>\n",
       "    <tr>\n",
       "      <th>19</th>\n",
       "      <td>Gayatri</td>\n",
       "      <td>Sambhaji_nagar</td>\n",
       "    </tr>\n",
       "    <tr>\n",
       "      <th>25</th>\n",
       "      <td>Yash</td>\n",
       "      <td>nashik</td>\n",
       "    </tr>\n",
       "  </tbody>\n",
       "</table>\n",
       "</div>"
      ],
      "text/plain": [
       "        name             loc\n",
       "age                         \n",
       "20     Shree         jalgaon\n",
       "19   Gayatri  Sambhaji_nagar\n",
       "25      Yash          nashik"
      ]
     },
     "execution_count": 18,
     "metadata": {},
     "output_type": "execute_result"
    }
   ],
   "source": [
    "df"
   ]
  },
  {
   "cell_type": "code",
   "execution_count": 5,
   "id": "b958710d-9858-46a3-bb37-1a06b9f14269",
   "metadata": {},
   "outputs": [],
   "source": [
    "data1= [[\"Shree\",\"Gayatri\",\"Yash\"],\n",
    "    [20,19,25],\n",
    "    [\"jalgaon\",\"Sambhaji_nagar\",\"nashik\"]]"
   ]
  },
  {
   "cell_type": "code",
   "execution_count": 7,
   "id": "1d0ade4b-2f97-489f-8b83-e7faa24d91a7",
   "metadata": {},
   "outputs": [],
   "source": [
    "df1=pd.DataFrame(data1,columns=[\"Name\",\"Age\",\"City\"])"
   ]
  },
  {
   "cell_type": "code",
   "execution_count": 8,
   "id": "23f902ec-1366-410a-9a86-791687623199",
   "metadata": {},
   "outputs": [
    {
     "data": {
      "text/html": [
       "<div>\n",
       "<style scoped>\n",
       "    .dataframe tbody tr th:only-of-type {\n",
       "        vertical-align: middle;\n",
       "    }\n",
       "\n",
       "    .dataframe tbody tr th {\n",
       "        vertical-align: top;\n",
       "    }\n",
       "\n",
       "    .dataframe thead th {\n",
       "        text-align: right;\n",
       "    }\n",
       "</style>\n",
       "<table border=\"1\" class=\"dataframe\">\n",
       "  <thead>\n",
       "    <tr style=\"text-align: right;\">\n",
       "      <th></th>\n",
       "      <th>Name</th>\n",
       "      <th>Age</th>\n",
       "      <th>City</th>\n",
       "    </tr>\n",
       "  </thead>\n",
       "  <tbody>\n",
       "    <tr>\n",
       "      <th>0</th>\n",
       "      <td>Shree</td>\n",
       "      <td>Gayatri</td>\n",
       "      <td>Yash</td>\n",
       "    </tr>\n",
       "    <tr>\n",
       "      <th>1</th>\n",
       "      <td>20</td>\n",
       "      <td>19</td>\n",
       "      <td>25</td>\n",
       "    </tr>\n",
       "    <tr>\n",
       "      <th>2</th>\n",
       "      <td>jalgaon</td>\n",
       "      <td>Sambhaji_nagar</td>\n",
       "      <td>nashik</td>\n",
       "    </tr>\n",
       "  </tbody>\n",
       "</table>\n",
       "</div>"
      ],
      "text/plain": [
       "      Name             Age    City\n",
       "0    Shree         Gayatri    Yash\n",
       "1       20              19      25\n",
       "2  jalgaon  Sambhaji_nagar  nashik"
      ]
     },
     "execution_count": 8,
     "metadata": {},
     "output_type": "execute_result"
    }
   ],
   "source": [
    "df1"
   ]
  },
  {
   "cell_type": "code",
   "execution_count": 19,
   "id": "990772b7-efa0-499a-bd1d-d460978c0cb0",
   "metadata": {},
   "outputs": [],
   "source": [
    "df=pd.read_csv(\"dog.csv\")"
   ]
  },
  {
   "cell_type": "code",
   "execution_count": 20,
   "id": "155cfed3-ef9c-4a26-b249-baf7168b0b98",
   "metadata": {},
   "outputs": [
    {
     "data": {
      "text/html": [
       "<div>\n",
       "<style scoped>\n",
       "    .dataframe tbody tr th:only-of-type {\n",
       "        vertical-align: middle;\n",
       "    }\n",
       "\n",
       "    .dataframe tbody tr th {\n",
       "        vertical-align: top;\n",
       "    }\n",
       "\n",
       "    .dataframe thead th {\n",
       "        text-align: right;\n",
       "    }\n",
       "</style>\n",
       "<table border=\"1\" class=\"dataframe\">\n",
       "  <thead>\n",
       "    <tr style=\"text-align: right;\">\n",
       "      <th></th>\n",
       "      <th>HALTER_ID</th>\n",
       "      <th>ALTER</th>\n",
       "      <th>GESCHLECHT</th>\n",
       "      <th>STADTKREIS</th>\n",
       "      <th>STADTQUARTIER</th>\n",
       "      <th>RASSE1</th>\n",
       "      <th>RASSE1_MISCHLING</th>\n",
       "      <th>RASSE2</th>\n",
       "      <th>RASSE2_MISCHLING</th>\n",
       "      <th>RASSENTYP</th>\n",
       "      <th>GEBURTSJAHR_HUND</th>\n",
       "      <th>GESCHLECHT_HUND</th>\n",
       "      <th>HUNDEFARBE</th>\n",
       "    </tr>\n",
       "  </thead>\n",
       "  <tbody>\n",
       "    <tr>\n",
       "      <th>0</th>\n",
       "      <td>126</td>\n",
       "      <td>51-60</td>\n",
       "      <td>m</td>\n",
       "      <td>9.0</td>\n",
       "      <td>92.0</td>\n",
       "      <td>Welsh Terrier</td>\n",
       "      <td>NaN</td>\n",
       "      <td>NaN</td>\n",
       "      <td>NaN</td>\n",
       "      <td>K</td>\n",
       "      <td>2011</td>\n",
       "      <td>w</td>\n",
       "      <td>schwarz/braun</td>\n",
       "    </tr>\n",
       "    <tr>\n",
       "      <th>1</th>\n",
       "      <td>574</td>\n",
       "      <td>61-70</td>\n",
       "      <td>w</td>\n",
       "      <td>2.0</td>\n",
       "      <td>23.0</td>\n",
       "      <td>Cairn Terrier</td>\n",
       "      <td>NaN</td>\n",
       "      <td>NaN</td>\n",
       "      <td>NaN</td>\n",
       "      <td>K</td>\n",
       "      <td>2002</td>\n",
       "      <td>w</td>\n",
       "      <td>brindle</td>\n",
       "    </tr>\n",
       "    <tr>\n",
       "      <th>2</th>\n",
       "      <td>695</td>\n",
       "      <td>41-50</td>\n",
       "      <td>m</td>\n",
       "      <td>6.0</td>\n",
       "      <td>63.0</td>\n",
       "      <td>Labrador Retriever</td>\n",
       "      <td>NaN</td>\n",
       "      <td>NaN</td>\n",
       "      <td>NaN</td>\n",
       "      <td>I</td>\n",
       "      <td>2012</td>\n",
       "      <td>w</td>\n",
       "      <td>braun</td>\n",
       "    </tr>\n",
       "    <tr>\n",
       "      <th>3</th>\n",
       "      <td>893</td>\n",
       "      <td>61-70</td>\n",
       "      <td>w</td>\n",
       "      <td>7.0</td>\n",
       "      <td>71.0</td>\n",
       "      <td>Mittelschnauzer</td>\n",
       "      <td>NaN</td>\n",
       "      <td>NaN</td>\n",
       "      <td>NaN</td>\n",
       "      <td>I</td>\n",
       "      <td>2010</td>\n",
       "      <td>w</td>\n",
       "      <td>schwarz</td>\n",
       "    </tr>\n",
       "    <tr>\n",
       "      <th>4</th>\n",
       "      <td>1177</td>\n",
       "      <td>51-60</td>\n",
       "      <td>m</td>\n",
       "      <td>10.0</td>\n",
       "      <td>102.0</td>\n",
       "      <td>Shih Tzu</td>\n",
       "      <td>NaN</td>\n",
       "      <td>NaN</td>\n",
       "      <td>NaN</td>\n",
       "      <td>K</td>\n",
       "      <td>2011</td>\n",
       "      <td>m</td>\n",
       "      <td>schwarz/weiss</td>\n",
       "    </tr>\n",
       "    <tr>\n",
       "      <th>...</th>\n",
       "      <td>...</td>\n",
       "      <td>...</td>\n",
       "      <td>...</td>\n",
       "      <td>...</td>\n",
       "      <td>...</td>\n",
       "      <td>...</td>\n",
       "      <td>...</td>\n",
       "      <td>...</td>\n",
       "      <td>...</td>\n",
       "      <td>...</td>\n",
       "      <td>...</td>\n",
       "      <td>...</td>\n",
       "      <td>...</td>\n",
       "    </tr>\n",
       "    <tr>\n",
       "      <th>6975</th>\n",
       "      <td>128471</td>\n",
       "      <td>21-30</td>\n",
       "      <td>w</td>\n",
       "      <td>8.0</td>\n",
       "      <td>83.0</td>\n",
       "      <td>Tibetan Spaniel</td>\n",
       "      <td>NaN</td>\n",
       "      <td>NaN</td>\n",
       "      <td>NaN</td>\n",
       "      <td>K</td>\n",
       "      <td>2007</td>\n",
       "      <td>w</td>\n",
       "      <td>braun/beige</td>\n",
       "    </tr>\n",
       "    <tr>\n",
       "      <th>6976</th>\n",
       "      <td>128471</td>\n",
       "      <td>21-30</td>\n",
       "      <td>w</td>\n",
       "      <td>8.0</td>\n",
       "      <td>83.0</td>\n",
       "      <td>Rottweiler</td>\n",
       "      <td>NaN</td>\n",
       "      <td>NaN</td>\n",
       "      <td>NaN</td>\n",
       "      <td>I</td>\n",
       "      <td>2014</td>\n",
       "      <td>m</td>\n",
       "      <td>schwarz/rot</td>\n",
       "    </tr>\n",
       "    <tr>\n",
       "      <th>6977</th>\n",
       "      <td>128479</td>\n",
       "      <td>51-60</td>\n",
       "      <td>w</td>\n",
       "      <td>6.0</td>\n",
       "      <td>63.0</td>\n",
       "      <td>Lagotto Romagnolo</td>\n",
       "      <td>Mischling</td>\n",
       "      <td>NaN</td>\n",
       "      <td>NaN</td>\n",
       "      <td>I</td>\n",
       "      <td>2007</td>\n",
       "      <td>m</td>\n",
       "      <td>weiss/grau</td>\n",
       "    </tr>\n",
       "    <tr>\n",
       "      <th>6978</th>\n",
       "      <td>128482</td>\n",
       "      <td>21-30</td>\n",
       "      <td>w</td>\n",
       "      <td>9.0</td>\n",
       "      <td>91.0</td>\n",
       "      <td>Yorkshire Terrier</td>\n",
       "      <td>NaN</td>\n",
       "      <td>NaN</td>\n",
       "      <td>NaN</td>\n",
       "      <td>K</td>\n",
       "      <td>2015</td>\n",
       "      <td>w</td>\n",
       "      <td>schwarz/braun/grau</td>\n",
       "    </tr>\n",
       "    <tr>\n",
       "      <th>6979</th>\n",
       "      <td>128485</td>\n",
       "      <td>21-30</td>\n",
       "      <td>w</td>\n",
       "      <td>7.0</td>\n",
       "      <td>74.0</td>\n",
       "      <td>Magyar Viszla</td>\n",
       "      <td>NaN</td>\n",
       "      <td>NaN</td>\n",
       "      <td>NaN</td>\n",
       "      <td>I</td>\n",
       "      <td>2014</td>\n",
       "      <td>w</td>\n",
       "      <td>gelb</td>\n",
       "    </tr>\n",
       "  </tbody>\n",
       "</table>\n",
       "<p>6980 rows × 13 columns</p>\n",
       "</div>"
      ],
      "text/plain": [
       "      HALTER_ID  ALTER GESCHLECHT  STADTKREIS  STADTQUARTIER  \\\n",
       "0           126  51-60          m         9.0           92.0   \n",
       "1           574  61-70          w         2.0           23.0   \n",
       "2           695  41-50          m         6.0           63.0   \n",
       "3           893  61-70          w         7.0           71.0   \n",
       "4          1177  51-60          m        10.0          102.0   \n",
       "...         ...    ...        ...         ...            ...   \n",
       "6975     128471  21-30          w         8.0           83.0   \n",
       "6976     128471  21-30          w         8.0           83.0   \n",
       "6977     128479  51-60          w         6.0           63.0   \n",
       "6978     128482  21-30          w         9.0           91.0   \n",
       "6979     128485  21-30          w         7.0           74.0   \n",
       "\n",
       "                  RASSE1 RASSE1_MISCHLING RASSE2  RASSE2_MISCHLING RASSENTYP  \\\n",
       "0          Welsh Terrier              NaN    NaN               NaN         K   \n",
       "1          Cairn Terrier              NaN    NaN               NaN         K   \n",
       "2     Labrador Retriever              NaN    NaN               NaN         I   \n",
       "3        Mittelschnauzer              NaN    NaN               NaN         I   \n",
       "4               Shih Tzu              NaN    NaN               NaN         K   \n",
       "...                  ...              ...    ...               ...       ...   \n",
       "6975     Tibetan Spaniel              NaN    NaN               NaN         K   \n",
       "6976          Rottweiler              NaN    NaN               NaN         I   \n",
       "6977   Lagotto Romagnolo        Mischling    NaN               NaN         I   \n",
       "6978   Yorkshire Terrier              NaN    NaN               NaN         K   \n",
       "6979       Magyar Viszla              NaN    NaN               NaN         I   \n",
       "\n",
       "      GEBURTSJAHR_HUND GESCHLECHT_HUND          HUNDEFARBE  \n",
       "0                 2011               w       schwarz/braun  \n",
       "1                 2002               w             brindle  \n",
       "2                 2012               w               braun  \n",
       "3                 2010               w             schwarz  \n",
       "4                 2011               m       schwarz/weiss  \n",
       "...                ...             ...                 ...  \n",
       "6975              2007               w         braun/beige  \n",
       "6976              2014               m         schwarz/rot  \n",
       "6977              2007               m          weiss/grau  \n",
       "6978              2015               w  schwarz/braun/grau  \n",
       "6979              2014               w                gelb  \n",
       "\n",
       "[6980 rows x 13 columns]"
      ]
     },
     "execution_count": 20,
     "metadata": {},
     "output_type": "execute_result"
    }
   ],
   "source": [
    "df"
   ]
  },
  {
   "cell_type": "code",
   "execution_count": 21,
   "id": "5135b7da-322f-45d6-be4a-969202abd941",
   "metadata": {},
   "outputs": [
    {
     "data": {
      "text/plain": [
       "0       51-60\n",
       "1       61-70\n",
       "2       41-50\n",
       "3       61-70\n",
       "4       51-60\n",
       "        ...  \n",
       "6975    21-30\n",
       "6976    21-30\n",
       "6977    51-60\n",
       "6978    21-30\n",
       "6979    21-30\n",
       "Name: ALTER, Length: 6980, dtype: object"
      ]
     },
     "execution_count": 21,
     "metadata": {},
     "output_type": "execute_result"
    }
   ],
   "source": [
    "df['ALTER']"
   ]
  },
  {
   "cell_type": "code",
   "execution_count": 25,
   "id": "1e706f4f-d54d-4a0d-8b33-99e7f781a724",
   "metadata": {},
   "outputs": [
    {
     "data": {
      "text/html": [
       "<div>\n",
       "<style scoped>\n",
       "    .dataframe tbody tr th:only-of-type {\n",
       "        vertical-align: middle;\n",
       "    }\n",
       "\n",
       "    .dataframe tbody tr th {\n",
       "        vertical-align: top;\n",
       "    }\n",
       "\n",
       "    .dataframe thead th {\n",
       "        text-align: right;\n",
       "    }\n",
       "</style>\n",
       "<table border=\"1\" class=\"dataframe\">\n",
       "  <thead>\n",
       "    <tr style=\"text-align: right;\">\n",
       "      <th></th>\n",
       "      <th>HALTER_ID</th>\n",
       "      <th>STADTKREIS</th>\n",
       "    </tr>\n",
       "  </thead>\n",
       "  <tbody>\n",
       "    <tr>\n",
       "      <th>0</th>\n",
       "      <td>126</td>\n",
       "      <td>9.0</td>\n",
       "    </tr>\n",
       "    <tr>\n",
       "      <th>1</th>\n",
       "      <td>574</td>\n",
       "      <td>2.0</td>\n",
       "    </tr>\n",
       "    <tr>\n",
       "      <th>2</th>\n",
       "      <td>695</td>\n",
       "      <td>6.0</td>\n",
       "    </tr>\n",
       "    <tr>\n",
       "      <th>3</th>\n",
       "      <td>893</td>\n",
       "      <td>7.0</td>\n",
       "    </tr>\n",
       "    <tr>\n",
       "      <th>4</th>\n",
       "      <td>1177</td>\n",
       "      <td>10.0</td>\n",
       "    </tr>\n",
       "    <tr>\n",
       "      <th>...</th>\n",
       "      <td>...</td>\n",
       "      <td>...</td>\n",
       "    </tr>\n",
       "    <tr>\n",
       "      <th>6975</th>\n",
       "      <td>128471</td>\n",
       "      <td>8.0</td>\n",
       "    </tr>\n",
       "    <tr>\n",
       "      <th>6976</th>\n",
       "      <td>128471</td>\n",
       "      <td>8.0</td>\n",
       "    </tr>\n",
       "    <tr>\n",
       "      <th>6977</th>\n",
       "      <td>128479</td>\n",
       "      <td>6.0</td>\n",
       "    </tr>\n",
       "    <tr>\n",
       "      <th>6978</th>\n",
       "      <td>128482</td>\n",
       "      <td>9.0</td>\n",
       "    </tr>\n",
       "    <tr>\n",
       "      <th>6979</th>\n",
       "      <td>128485</td>\n",
       "      <td>7.0</td>\n",
       "    </tr>\n",
       "  </tbody>\n",
       "</table>\n",
       "<p>6980 rows × 2 columns</p>\n",
       "</div>"
      ],
      "text/plain": [
       "      HALTER_ID  STADTKREIS\n",
       "0           126         9.0\n",
       "1           574         2.0\n",
       "2           695         6.0\n",
       "3           893         7.0\n",
       "4          1177        10.0\n",
       "...         ...         ...\n",
       "6975     128471         8.0\n",
       "6976     128471         8.0\n",
       "6977     128479         6.0\n",
       "6978     128482         9.0\n",
       "6979     128485         7.0\n",
       "\n",
       "[6980 rows x 2 columns]"
      ]
     },
     "execution_count": 25,
     "metadata": {},
     "output_type": "execute_result"
    }
   ],
   "source": [
    "df[[\"HALTER_ID\",\"STADTKREIS\"]]"
   ]
  },
  {
   "cell_type": "code",
   "execution_count": 28,
   "id": "98b349fb-dcd3-49b2-b5ca-9a623ea0b3d6",
   "metadata": {},
   "outputs": [
    {
     "data": {
      "text/plain": [
       "HALTER_ID           23889\n",
       "ALTER               61-70\n",
       "GESCHLECHT              w\n",
       "STADTKREIS            4.0\n",
       "STADTQUARTIER        42.0\n",
       "RASSE1              Pudel\n",
       "RASSE1_MISCHLING      NaN\n",
       "RASSE2                NaN\n",
       "RASSE2_MISCHLING      NaN\n",
       "RASSENTYP             NaN\n",
       "GEBURTSJAHR_HUND     2012\n",
       "GESCHLECHT_HUND         m\n",
       "HUNDEFARBE          braun\n",
       "Name: 78, dtype: object"
      ]
     },
     "execution_count": 28,
     "metadata": {},
     "output_type": "execute_result"
    }
   ],
   "source": [
    "df.loc[78]"
   ]
  },
  {
   "cell_type": "code",
   "execution_count": 30,
   "id": "b336e1cc-e95a-4780-8b9e-172f7bfa92f6",
   "metadata": {},
   "outputs": [],
   "source": [
    "data={\n",
    "    \"name\":[\"Shree\",\"Gayatri\",\"Yash\"],\n",
    "    \"age\":[20,19,25],\n",
    "    \"loc\":[\"jalgaon\",\"Sambhaji_nagar\",\"nashik\"]\n",
    "}\n",
    "df=pd.DataFrame(data)\n",
    "df.set_index('name',inplace=True)"
   ]
  },
  {
   "cell_type": "code",
   "execution_count": 31,
   "id": "b2aa3344-9cd9-486e-b27f-3b08d5545a6d",
   "metadata": {},
   "outputs": [
    {
     "data": {
      "text/html": [
       "<div>\n",
       "<style scoped>\n",
       "    .dataframe tbody tr th:only-of-type {\n",
       "        vertical-align: middle;\n",
       "    }\n",
       "\n",
       "    .dataframe tbody tr th {\n",
       "        vertical-align: top;\n",
       "    }\n",
       "\n",
       "    .dataframe thead th {\n",
       "        text-align: right;\n",
       "    }\n",
       "</style>\n",
       "<table border=\"1\" class=\"dataframe\">\n",
       "  <thead>\n",
       "    <tr style=\"text-align: right;\">\n",
       "      <th></th>\n",
       "      <th>age</th>\n",
       "      <th>loc</th>\n",
       "    </tr>\n",
       "    <tr>\n",
       "      <th>name</th>\n",
       "      <th></th>\n",
       "      <th></th>\n",
       "    </tr>\n",
       "  </thead>\n",
       "  <tbody>\n",
       "    <tr>\n",
       "      <th>Shree</th>\n",
       "      <td>20</td>\n",
       "      <td>jalgaon</td>\n",
       "    </tr>\n",
       "    <tr>\n",
       "      <th>Gayatri</th>\n",
       "      <td>19</td>\n",
       "      <td>Sambhaji_nagar</td>\n",
       "    </tr>\n",
       "    <tr>\n",
       "      <th>Yash</th>\n",
       "      <td>25</td>\n",
       "      <td>nashik</td>\n",
       "    </tr>\n",
       "  </tbody>\n",
       "</table>\n",
       "</div>"
      ],
      "text/plain": [
       "         age             loc\n",
       "name                        \n",
       "Shree     20         jalgaon\n",
       "Gayatri   19  Sambhaji_nagar\n",
       "Yash      25          nashik"
      ]
     },
     "execution_count": 31,
     "metadata": {},
     "output_type": "execute_result"
    }
   ],
   "source": [
    "df"
   ]
  },
  {
   "cell_type": "code",
   "execution_count": 32,
   "id": "4d4a547c-1853-4fc5-bbfb-5a56e6d6a51c",
   "metadata": {},
   "outputs": [
    {
     "data": {
      "text/plain": [
       "age        25\n",
       "loc    nashik\n",
       "Name: Yash, dtype: object"
      ]
     },
     "execution_count": 32,
     "metadata": {},
     "output_type": "execute_result"
    }
   ],
   "source": [
    "df.loc['Yash']"
   ]
  },
  {
   "cell_type": "code",
   "execution_count": 33,
   "id": "eafdbc37-da7e-402d-94f2-ca77ba8ab748",
   "metadata": {},
   "outputs": [
    {
     "data": {
      "text/plain": [
       "age                19\n",
       "loc    Sambhaji_nagar\n",
       "Name: Gayatri, dtype: object"
      ]
     },
     "execution_count": 33,
     "metadata": {},
     "output_type": "execute_result"
    }
   ],
   "source": [
    "df.iloc[1]"
   ]
  },
  {
   "cell_type": "code",
   "execution_count": 34,
   "id": "08a25b41-38e8-4e07-bc9c-6abd580a019a",
   "metadata": {},
   "outputs": [
    {
     "name": "stdout",
     "output_type": "stream",
     "text": [
      "<class 'pandas.core.frame.DataFrame'>\n",
      "Index: 3 entries, Shree to Yash\n",
      "Data columns (total 2 columns):\n",
      " #   Column  Non-Null Count  Dtype \n",
      "---  ------  --------------  ----- \n",
      " 0   age     3 non-null      int64 \n",
      " 1   loc     3 non-null      object\n",
      "dtypes: int64(1), object(1)\n",
      "memory usage: 180.0+ bytes\n"
     ]
    },
    {
     "data": {
      "text/html": [
       "<div>\n",
       "<style scoped>\n",
       "    .dataframe tbody tr th:only-of-type {\n",
       "        vertical-align: middle;\n",
       "    }\n",
       "\n",
       "    .dataframe tbody tr th {\n",
       "        vertical-align: top;\n",
       "    }\n",
       "\n",
       "    .dataframe thead th {\n",
       "        text-align: right;\n",
       "    }\n",
       "</style>\n",
       "<table border=\"1\" class=\"dataframe\">\n",
       "  <thead>\n",
       "    <tr style=\"text-align: right;\">\n",
       "      <th></th>\n",
       "      <th>age</th>\n",
       "    </tr>\n",
       "  </thead>\n",
       "  <tbody>\n",
       "    <tr>\n",
       "      <th>count</th>\n",
       "      <td>3.000000</td>\n",
       "    </tr>\n",
       "    <tr>\n",
       "      <th>mean</th>\n",
       "      <td>21.333333</td>\n",
       "    </tr>\n",
       "    <tr>\n",
       "      <th>std</th>\n",
       "      <td>3.214550</td>\n",
       "    </tr>\n",
       "    <tr>\n",
       "      <th>min</th>\n",
       "      <td>19.000000</td>\n",
       "    </tr>\n",
       "    <tr>\n",
       "      <th>25%</th>\n",
       "      <td>19.500000</td>\n",
       "    </tr>\n",
       "    <tr>\n",
       "      <th>50%</th>\n",
       "      <td>20.000000</td>\n",
       "    </tr>\n",
       "    <tr>\n",
       "      <th>75%</th>\n",
       "      <td>22.500000</td>\n",
       "    </tr>\n",
       "    <tr>\n",
       "      <th>max</th>\n",
       "      <td>25.000000</td>\n",
       "    </tr>\n",
       "  </tbody>\n",
       "</table>\n",
       "</div>"
      ],
      "text/plain": [
       "             age\n",
       "count   3.000000\n",
       "mean   21.333333\n",
       "std     3.214550\n",
       "min    19.000000\n",
       "25%    19.500000\n",
       "50%    20.000000\n",
       "75%    22.500000\n",
       "max    25.000000"
      ]
     },
     "execution_count": 34,
     "metadata": {},
     "output_type": "execute_result"
    }
   ],
   "source": [
    "df.head()  # First 5 rows\n",
    "df.tail()  # Last 5 rows\n",
    "df.info()  # Summary of the DataFrame\n",
    "df.describe()  # Summary statistics of numerical columns"
   ]
  },
  {
   "cell_type": "code",
   "execution_count": 35,
   "id": "936bbdb8-af2f-4832-8814-96b8900ebf00",
   "metadata": {},
   "outputs": [],
   "source": [
    "df['gender']=[\"male\",\"female\",\"male\"]"
   ]
  },
  {
   "cell_type": "code",
   "execution_count": 36,
   "id": "9ab89c3f-a237-4709-a3c3-eeec8317ef30",
   "metadata": {},
   "outputs": [
    {
     "data": {
      "text/html": [
       "<div>\n",
       "<style scoped>\n",
       "    .dataframe tbody tr th:only-of-type {\n",
       "        vertical-align: middle;\n",
       "    }\n",
       "\n",
       "    .dataframe tbody tr th {\n",
       "        vertical-align: top;\n",
       "    }\n",
       "\n",
       "    .dataframe thead th {\n",
       "        text-align: right;\n",
       "    }\n",
       "</style>\n",
       "<table border=\"1\" class=\"dataframe\">\n",
       "  <thead>\n",
       "    <tr style=\"text-align: right;\">\n",
       "      <th></th>\n",
       "      <th>age</th>\n",
       "      <th>loc</th>\n",
       "      <th>gender</th>\n",
       "    </tr>\n",
       "    <tr>\n",
       "      <th>name</th>\n",
       "      <th></th>\n",
       "      <th></th>\n",
       "      <th></th>\n",
       "    </tr>\n",
       "  </thead>\n",
       "  <tbody>\n",
       "    <tr>\n",
       "      <th>Shree</th>\n",
       "      <td>20</td>\n",
       "      <td>jalgaon</td>\n",
       "      <td>male</td>\n",
       "    </tr>\n",
       "    <tr>\n",
       "      <th>Gayatri</th>\n",
       "      <td>19</td>\n",
       "      <td>Sambhaji_nagar</td>\n",
       "      <td>female</td>\n",
       "    </tr>\n",
       "    <tr>\n",
       "      <th>Yash</th>\n",
       "      <td>25</td>\n",
       "      <td>nashik</td>\n",
       "      <td>male</td>\n",
       "    </tr>\n",
       "  </tbody>\n",
       "</table>\n",
       "</div>"
      ],
      "text/plain": [
       "         age             loc  gender\n",
       "name                                \n",
       "Shree     20         jalgaon    male\n",
       "Gayatri   19  Sambhaji_nagar  female\n",
       "Yash      25          nashik    male"
      ]
     },
     "execution_count": 36,
     "metadata": {},
     "output_type": "execute_result"
    }
   ],
   "source": [
    "df"
   ]
  },
  {
   "cell_type": "code",
   "execution_count": 37,
   "id": "4a6f878a-0ea4-4106-a299-c3deb2d70196",
   "metadata": {},
   "outputs": [],
   "source": [
    "df.drop(columns=['gender'],inplace=True)"
   ]
  },
  {
   "cell_type": "code",
   "execution_count": 38,
   "id": "386850a6-5eb7-453b-8681-1884e2310809",
   "metadata": {},
   "outputs": [
    {
     "data": {
      "text/html": [
       "<div>\n",
       "<style scoped>\n",
       "    .dataframe tbody tr th:only-of-type {\n",
       "        vertical-align: middle;\n",
       "    }\n",
       "\n",
       "    .dataframe tbody tr th {\n",
       "        vertical-align: top;\n",
       "    }\n",
       "\n",
       "    .dataframe thead th {\n",
       "        text-align: right;\n",
       "    }\n",
       "</style>\n",
       "<table border=\"1\" class=\"dataframe\">\n",
       "  <thead>\n",
       "    <tr style=\"text-align: right;\">\n",
       "      <th></th>\n",
       "      <th>age</th>\n",
       "      <th>loc</th>\n",
       "    </tr>\n",
       "    <tr>\n",
       "      <th>name</th>\n",
       "      <th></th>\n",
       "      <th></th>\n",
       "    </tr>\n",
       "  </thead>\n",
       "  <tbody>\n",
       "    <tr>\n",
       "      <th>Shree</th>\n",
       "      <td>20</td>\n",
       "      <td>jalgaon</td>\n",
       "    </tr>\n",
       "    <tr>\n",
       "      <th>Gayatri</th>\n",
       "      <td>19</td>\n",
       "      <td>Sambhaji_nagar</td>\n",
       "    </tr>\n",
       "    <tr>\n",
       "      <th>Yash</th>\n",
       "      <td>25</td>\n",
       "      <td>nashik</td>\n",
       "    </tr>\n",
       "  </tbody>\n",
       "</table>\n",
       "</div>"
      ],
      "text/plain": [
       "         age             loc\n",
       "name                        \n",
       "Shree     20         jalgaon\n",
       "Gayatri   19  Sambhaji_nagar\n",
       "Yash      25          nashik"
      ]
     },
     "execution_count": 38,
     "metadata": {},
     "output_type": "execute_result"
    }
   ],
   "source": [
    "df"
   ]
  },
  {
   "cell_type": "code",
   "execution_count": 39,
   "id": "b11c0a0c-b719-4140-bd94-2575bdcc4a48",
   "metadata": {},
   "outputs": [
    {
     "data": {
      "text/html": [
       "<div>\n",
       "<style scoped>\n",
       "    .dataframe tbody tr th:only-of-type {\n",
       "        vertical-align: middle;\n",
       "    }\n",
       "\n",
       "    .dataframe tbody tr th {\n",
       "        vertical-align: top;\n",
       "    }\n",
       "\n",
       "    .dataframe thead th {\n",
       "        text-align: right;\n",
       "    }\n",
       "</style>\n",
       "<table border=\"1\" class=\"dataframe\">\n",
       "  <thead>\n",
       "    <tr style=\"text-align: right;\">\n",
       "      <th></th>\n",
       "      <th>age</th>\n",
       "      <th>loc</th>\n",
       "    </tr>\n",
       "    <tr>\n",
       "      <th>name</th>\n",
       "      <th></th>\n",
       "      <th></th>\n",
       "    </tr>\n",
       "  </thead>\n",
       "  <tbody>\n",
       "    <tr>\n",
       "      <th>Shree</th>\n",
       "      <td>20</td>\n",
       "      <td>jalgaon</td>\n",
       "    </tr>\n",
       "    <tr>\n",
       "      <th>Yash</th>\n",
       "      <td>25</td>\n",
       "      <td>nashik</td>\n",
       "    </tr>\n",
       "  </tbody>\n",
       "</table>\n",
       "</div>"
      ],
      "text/plain": [
       "       age      loc\n",
       "name               \n",
       "Shree   20  jalgaon\n",
       "Yash    25   nashik"
      ]
     },
     "execution_count": 39,
     "metadata": {},
     "output_type": "execute_result"
    }
   ],
   "source": [
    "df[df['age'] >19]"
   ]
  },
  {
   "cell_type": "code",
   "execution_count": 40,
   "id": "a6542fcb-ef51-40a0-b71e-5e3f6f23d47b",
   "metadata": {},
   "outputs": [
    {
     "data": {
      "text/html": [
       "<div>\n",
       "<style scoped>\n",
       "    .dataframe tbody tr th:only-of-type {\n",
       "        vertical-align: middle;\n",
       "    }\n",
       "\n",
       "    .dataframe tbody tr th {\n",
       "        vertical-align: top;\n",
       "    }\n",
       "\n",
       "    .dataframe thead th {\n",
       "        text-align: right;\n",
       "    }\n",
       "</style>\n",
       "<table border=\"1\" class=\"dataframe\">\n",
       "  <thead>\n",
       "    <tr style=\"text-align: right;\">\n",
       "      <th></th>\n",
       "      <th>age</th>\n",
       "      <th>loc</th>\n",
       "    </tr>\n",
       "    <tr>\n",
       "      <th>name</th>\n",
       "      <th></th>\n",
       "      <th></th>\n",
       "    </tr>\n",
       "  </thead>\n",
       "  <tbody>\n",
       "    <tr>\n",
       "      <th>Shree</th>\n",
       "      <td>20</td>\n",
       "      <td>jalgaon</td>\n",
       "    </tr>\n",
       "    <tr>\n",
       "      <th>Gayatri</th>\n",
       "      <td>19</td>\n",
       "      <td>Sambhaji_nagar</td>\n",
       "    </tr>\n",
       "    <tr>\n",
       "      <th>Yash</th>\n",
       "      <td>25</td>\n",
       "      <td>nashik</td>\n",
       "    </tr>\n",
       "  </tbody>\n",
       "</table>\n",
       "</div>"
      ],
      "text/plain": [
       "         age             loc\n",
       "name                        \n",
       "Shree     20         jalgaon\n",
       "Gayatri   19  Sambhaji_nagar\n",
       "Yash      25          nashik"
      ]
     },
     "execution_count": 40,
     "metadata": {},
     "output_type": "execute_result"
    }
   ],
   "source": [
    "df\n"
   ]
  },
  {
   "cell_type": "code",
   "execution_count": 43,
   "id": "dfcc8d23-d4a7-4f4e-aa16-5b58b6f8f803",
   "metadata": {},
   "outputs": [],
   "source": [
    "# df.loc[\"Gayatri\",'age']=56\n",
    "df.loc[[\"Gayatri\",\"Shree\"],'age']=[56,58]"
   ]
  },
  {
   "cell_type": "code",
   "execution_count": 44,
   "id": "646863b5-c306-4f14-ae55-1775e1f309c1",
   "metadata": {},
   "outputs": [
    {
     "data": {
      "text/html": [
       "<div>\n",
       "<style scoped>\n",
       "    .dataframe tbody tr th:only-of-type {\n",
       "        vertical-align: middle;\n",
       "    }\n",
       "\n",
       "    .dataframe tbody tr th {\n",
       "        vertical-align: top;\n",
       "    }\n",
       "\n",
       "    .dataframe thead th {\n",
       "        text-align: right;\n",
       "    }\n",
       "</style>\n",
       "<table border=\"1\" class=\"dataframe\">\n",
       "  <thead>\n",
       "    <tr style=\"text-align: right;\">\n",
       "      <th></th>\n",
       "      <th>age</th>\n",
       "      <th>loc</th>\n",
       "    </tr>\n",
       "    <tr>\n",
       "      <th>name</th>\n",
       "      <th></th>\n",
       "      <th></th>\n",
       "    </tr>\n",
       "  </thead>\n",
       "  <tbody>\n",
       "    <tr>\n",
       "      <th>Shree</th>\n",
       "      <td>58</td>\n",
       "      <td>jalgaon</td>\n",
       "    </tr>\n",
       "    <tr>\n",
       "      <th>Gayatri</th>\n",
       "      <td>56</td>\n",
       "      <td>Sambhaji_nagar</td>\n",
       "    </tr>\n",
       "    <tr>\n",
       "      <th>Yash</th>\n",
       "      <td>25</td>\n",
       "      <td>nashik</td>\n",
       "    </tr>\n",
       "  </tbody>\n",
       "</table>\n",
       "</div>"
      ],
      "text/plain": [
       "         age             loc\n",
       "name                        \n",
       "Shree     58         jalgaon\n",
       "Gayatri   56  Sambhaji_nagar\n",
       "Yash      25          nashik"
      ]
     },
     "execution_count": 44,
     "metadata": {},
     "output_type": "execute_result"
    }
   ],
   "source": [
    "df"
   ]
  },
  {
   "cell_type": "code",
   "execution_count": 55,
   "id": "0e837944-dbf4-458a-aa16-11f757941d40",
   "metadata": {},
   "outputs": [],
   "source": [
    "data={\n",
    "    \"name\":[\"Shree\",\"Gayatri\",\"Yash\"],\n",
    "    \"age\":[20,19,25],\n",
    "    \"loc\":[\"jalgaon\",\"Sambhaji_nagar\",\"nashik\"]\n",
    "}\n",
    "df=pd.DataFrame(data)\n",
    "# df.set_index('name',inplace=True)\n",
    "\n"
   ]
  },
  {
   "cell_type": "code",
   "execution_count": 56,
   "id": "640f4995-9e9f-4871-be3a-56ca7da8956e",
   "metadata": {},
   "outputs": [
    {
     "data": {
      "text/html": [
       "<div>\n",
       "<style scoped>\n",
       "    .dataframe tbody tr th:only-of-type {\n",
       "        vertical-align: middle;\n",
       "    }\n",
       "\n",
       "    .dataframe tbody tr th {\n",
       "        vertical-align: top;\n",
       "    }\n",
       "\n",
       "    .dataframe thead th {\n",
       "        text-align: right;\n",
       "    }\n",
       "</style>\n",
       "<table border=\"1\" class=\"dataframe\">\n",
       "  <thead>\n",
       "    <tr style=\"text-align: right;\">\n",
       "      <th></th>\n",
       "      <th>name</th>\n",
       "      <th>age</th>\n",
       "      <th>loc</th>\n",
       "    </tr>\n",
       "  </thead>\n",
       "  <tbody>\n",
       "    <tr>\n",
       "      <th>0</th>\n",
       "      <td>Shree</td>\n",
       "      <td>20</td>\n",
       "      <td>jalgaon</td>\n",
       "    </tr>\n",
       "    <tr>\n",
       "      <th>1</th>\n",
       "      <td>Gayatri</td>\n",
       "      <td>19</td>\n",
       "      <td>Sambhaji_nagar</td>\n",
       "    </tr>\n",
       "    <tr>\n",
       "      <th>2</th>\n",
       "      <td>Yash</td>\n",
       "      <td>25</td>\n",
       "      <td>nashik</td>\n",
       "    </tr>\n",
       "  </tbody>\n",
       "</table>\n",
       "</div>"
      ],
      "text/plain": [
       "      name  age             loc\n",
       "0    Shree   20         jalgaon\n",
       "1  Gayatri   19  Sambhaji_nagar\n",
       "2     Yash   25          nashik"
      ]
     },
     "execution_count": 56,
     "metadata": {},
     "output_type": "execute_result"
    }
   ],
   "source": [
    "df"
   ]
  },
  {
   "cell_type": "code",
   "execution_count": 57,
   "id": "6ec62957-f5d1-4688-9b88-361bd825c5d7",
   "metadata": {},
   "outputs": [],
   "source": [
    "df.iloc[0,1]=21"
   ]
  },
  {
   "cell_type": "code",
   "execution_count": 58,
   "id": "59f6c3da-19c3-4170-92aa-185f64327703",
   "metadata": {},
   "outputs": [
    {
     "data": {
      "text/html": [
       "<div>\n",
       "<style scoped>\n",
       "    .dataframe tbody tr th:only-of-type {\n",
       "        vertical-align: middle;\n",
       "    }\n",
       "\n",
       "    .dataframe tbody tr th {\n",
       "        vertical-align: top;\n",
       "    }\n",
       "\n",
       "    .dataframe thead th {\n",
       "        text-align: right;\n",
       "    }\n",
       "</style>\n",
       "<table border=\"1\" class=\"dataframe\">\n",
       "  <thead>\n",
       "    <tr style=\"text-align: right;\">\n",
       "      <th></th>\n",
       "      <th>name</th>\n",
       "      <th>age</th>\n",
       "      <th>loc</th>\n",
       "    </tr>\n",
       "  </thead>\n",
       "  <tbody>\n",
       "    <tr>\n",
       "      <th>0</th>\n",
       "      <td>Shree</td>\n",
       "      <td>21</td>\n",
       "      <td>jalgaon</td>\n",
       "    </tr>\n",
       "    <tr>\n",
       "      <th>1</th>\n",
       "      <td>Gayatri</td>\n",
       "      <td>19</td>\n",
       "      <td>Sambhaji_nagar</td>\n",
       "    </tr>\n",
       "    <tr>\n",
       "      <th>2</th>\n",
       "      <td>Yash</td>\n",
       "      <td>25</td>\n",
       "      <td>nashik</td>\n",
       "    </tr>\n",
       "  </tbody>\n",
       "</table>\n",
       "</div>"
      ],
      "text/plain": [
       "      name  age             loc\n",
       "0    Shree   21         jalgaon\n",
       "1  Gayatri   19  Sambhaji_nagar\n",
       "2     Yash   25          nashik"
      ]
     },
     "execution_count": 58,
     "metadata": {},
     "output_type": "execute_result"
    }
   ],
   "source": [
    "df"
   ]
  },
  {
   "cell_type": "code",
   "execution_count": 64,
   "id": "e8f64416-4f5e-4013-9fc0-b41550a2a473",
   "metadata": {},
   "outputs": [],
   "source": [
    "df.iloc[0:2,2]=[\"Noida\",\"mumbai\"]"
   ]
  },
  {
   "cell_type": "code",
   "execution_count": 65,
   "id": "bae78e4e-e9ab-431d-967a-a702beafdd3a",
   "metadata": {},
   "outputs": [
    {
     "data": {
      "text/html": [
       "<div>\n",
       "<style scoped>\n",
       "    .dataframe tbody tr th:only-of-type {\n",
       "        vertical-align: middle;\n",
       "    }\n",
       "\n",
       "    .dataframe tbody tr th {\n",
       "        vertical-align: top;\n",
       "    }\n",
       "\n",
       "    .dataframe thead th {\n",
       "        text-align: right;\n",
       "    }\n",
       "</style>\n",
       "<table border=\"1\" class=\"dataframe\">\n",
       "  <thead>\n",
       "    <tr style=\"text-align: right;\">\n",
       "      <th></th>\n",
       "      <th>name</th>\n",
       "      <th>age</th>\n",
       "      <th>loc</th>\n",
       "    </tr>\n",
       "  </thead>\n",
       "  <tbody>\n",
       "    <tr>\n",
       "      <th>0</th>\n",
       "      <td>Shree</td>\n",
       "      <td>21</td>\n",
       "      <td>Noida</td>\n",
       "    </tr>\n",
       "    <tr>\n",
       "      <th>1</th>\n",
       "      <td>Gayatri</td>\n",
       "      <td>19</td>\n",
       "      <td>mumbai</td>\n",
       "    </tr>\n",
       "    <tr>\n",
       "      <th>2</th>\n",
       "      <td>Yash</td>\n",
       "      <td>25</td>\n",
       "      <td>pune</td>\n",
       "    </tr>\n",
       "  </tbody>\n",
       "</table>\n",
       "</div>"
      ],
      "text/plain": [
       "      name  age     loc\n",
       "0    Shree   21   Noida\n",
       "1  Gayatri   19  mumbai\n",
       "2     Yash   25    pune"
      ]
     },
     "execution_count": 65,
     "metadata": {},
     "output_type": "execute_result"
    }
   ],
   "source": [
    "df"
   ]
  },
  {
   "cell_type": "code",
   "execution_count": 66,
   "id": "238c0141-1a58-4cbe-9045-3ccdb4a8d991",
   "metadata": {},
   "outputs": [],
   "source": [
    "# df.set_index(\"name\",inplace=True)"
   ]
  },
  {
   "cell_type": "code",
   "execution_count": 67,
   "id": "d10fd473-8c08-419f-9ab2-95bd9537d83b",
   "metadata": {},
   "outputs": [
    {
     "data": {
      "text/html": [
       "<div>\n",
       "<style scoped>\n",
       "    .dataframe tbody tr th:only-of-type {\n",
       "        vertical-align: middle;\n",
       "    }\n",
       "\n",
       "    .dataframe tbody tr th {\n",
       "        vertical-align: top;\n",
       "    }\n",
       "\n",
       "    .dataframe thead th {\n",
       "        text-align: right;\n",
       "    }\n",
       "</style>\n",
       "<table border=\"1\" class=\"dataframe\">\n",
       "  <thead>\n",
       "    <tr style=\"text-align: right;\">\n",
       "      <th></th>\n",
       "      <th>age</th>\n",
       "      <th>loc</th>\n",
       "    </tr>\n",
       "    <tr>\n",
       "      <th>name</th>\n",
       "      <th></th>\n",
       "      <th></th>\n",
       "    </tr>\n",
       "  </thead>\n",
       "  <tbody>\n",
       "    <tr>\n",
       "      <th>Shree</th>\n",
       "      <td>21</td>\n",
       "      <td>Noida</td>\n",
       "    </tr>\n",
       "    <tr>\n",
       "      <th>Gayatri</th>\n",
       "      <td>19</td>\n",
       "      <td>mumbai</td>\n",
       "    </tr>\n",
       "    <tr>\n",
       "      <th>Yash</th>\n",
       "      <td>25</td>\n",
       "      <td>pune</td>\n",
       "    </tr>\n",
       "  </tbody>\n",
       "</table>\n",
       "</div>"
      ],
      "text/plain": [
       "         age     loc\n",
       "name                \n",
       "Shree     21   Noida\n",
       "Gayatri   19  mumbai\n",
       "Yash      25    pune"
      ]
     },
     "execution_count": 67,
     "metadata": {},
     "output_type": "execute_result"
    }
   ],
   "source": [
    "df"
   ]
  },
  {
   "cell_type": "code",
   "execution_count": 68,
   "id": "ebd78a79-b03d-4328-b4bb-caf2db75e8c4",
   "metadata": {},
   "outputs": [],
   "source": [
    "df.at[\"Gayatri\",\"age\"]=99"
   ]
  },
  {
   "cell_type": "code",
   "execution_count": 69,
   "id": "bfe85769-c570-4426-93c7-a9cee6b29a18",
   "metadata": {},
   "outputs": [
    {
     "data": {
      "text/html": [
       "<div>\n",
       "<style scoped>\n",
       "    .dataframe tbody tr th:only-of-type {\n",
       "        vertical-align: middle;\n",
       "    }\n",
       "\n",
       "    .dataframe tbody tr th {\n",
       "        vertical-align: top;\n",
       "    }\n",
       "\n",
       "    .dataframe thead th {\n",
       "        text-align: right;\n",
       "    }\n",
       "</style>\n",
       "<table border=\"1\" class=\"dataframe\">\n",
       "  <thead>\n",
       "    <tr style=\"text-align: right;\">\n",
       "      <th></th>\n",
       "      <th>age</th>\n",
       "      <th>loc</th>\n",
       "    </tr>\n",
       "    <tr>\n",
       "      <th>name</th>\n",
       "      <th></th>\n",
       "      <th></th>\n",
       "    </tr>\n",
       "  </thead>\n",
       "  <tbody>\n",
       "    <tr>\n",
       "      <th>Shree</th>\n",
       "      <td>21</td>\n",
       "      <td>Noida</td>\n",
       "    </tr>\n",
       "    <tr>\n",
       "      <th>Gayatri</th>\n",
       "      <td>99</td>\n",
       "      <td>mumbai</td>\n",
       "    </tr>\n",
       "    <tr>\n",
       "      <th>Yash</th>\n",
       "      <td>25</td>\n",
       "      <td>pune</td>\n",
       "    </tr>\n",
       "  </tbody>\n",
       "</table>\n",
       "</div>"
      ],
      "text/plain": [
       "         age     loc\n",
       "name                \n",
       "Shree     21   Noida\n",
       "Gayatri   99  mumbai\n",
       "Yash      25    pune"
      ]
     },
     "execution_count": 69,
     "metadata": {},
     "output_type": "execute_result"
    }
   ],
   "source": [
    "df\n"
   ]
  },
  {
   "cell_type": "code",
   "execution_count": 70,
   "id": "80ea9061-a842-46e3-9e47-e96388fb961c",
   "metadata": {},
   "outputs": [],
   "source": [
    "df.iat[0,0]=77"
   ]
  },
  {
   "cell_type": "code",
   "execution_count": 71,
   "id": "39887c4b-0c35-45bc-98ad-2c032588c527",
   "metadata": {},
   "outputs": [
    {
     "data": {
      "text/html": [
       "<div>\n",
       "<style scoped>\n",
       "    .dataframe tbody tr th:only-of-type {\n",
       "        vertical-align: middle;\n",
       "    }\n",
       "\n",
       "    .dataframe tbody tr th {\n",
       "        vertical-align: top;\n",
       "    }\n",
       "\n",
       "    .dataframe thead th {\n",
       "        text-align: right;\n",
       "    }\n",
       "</style>\n",
       "<table border=\"1\" class=\"dataframe\">\n",
       "  <thead>\n",
       "    <tr style=\"text-align: right;\">\n",
       "      <th></th>\n",
       "      <th>age</th>\n",
       "      <th>loc</th>\n",
       "    </tr>\n",
       "    <tr>\n",
       "      <th>name</th>\n",
       "      <th></th>\n",
       "      <th></th>\n",
       "    </tr>\n",
       "  </thead>\n",
       "  <tbody>\n",
       "    <tr>\n",
       "      <th>Shree</th>\n",
       "      <td>77</td>\n",
       "      <td>Noida</td>\n",
       "    </tr>\n",
       "    <tr>\n",
       "      <th>Gayatri</th>\n",
       "      <td>99</td>\n",
       "      <td>mumbai</td>\n",
       "    </tr>\n",
       "    <tr>\n",
       "      <th>Yash</th>\n",
       "      <td>25</td>\n",
       "      <td>pune</td>\n",
       "    </tr>\n",
       "  </tbody>\n",
       "</table>\n",
       "</div>"
      ],
      "text/plain": [
       "         age     loc\n",
       "name                \n",
       "Shree     77   Noida\n",
       "Gayatri   99  mumbai\n",
       "Yash      25    pune"
      ]
     },
     "execution_count": 71,
     "metadata": {},
     "output_type": "execute_result"
    }
   ],
   "source": [
    "df"
   ]
  },
  {
   "cell_type": "code",
   "execution_count": null,
   "id": "c3e340c9-f827-4093-a673-8390b2c6cff3",
   "metadata": {},
   "outputs": [],
   "source": []
  }
 ],
 "metadata": {
  "kernelspec": {
   "display_name": "Python 3 (ipykernel)",
   "language": "python",
   "name": "python3"
  },
  "language_info": {
   "codemirror_mode": {
    "name": "ipython",
    "version": 3
   },
   "file_extension": ".py",
   "mimetype": "text/x-python",
   "name": "python",
   "nbconvert_exporter": "python",
   "pygments_lexer": "ipython3",
   "version": "3.13.1"
  }
 },
 "nbformat": 4,
 "nbformat_minor": 5
}
